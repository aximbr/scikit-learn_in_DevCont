{
 "cells": [
  {
   "cell_type": "markdown",
   "metadata": {},
   "source": [
    "# This is generator of dummy data for training Feature Selection"
   ]
  },
  {
   "cell_type": "markdown",
   "metadata": {},
   "source": [
    "### Imports"
   ]
  },
  {
   "cell_type": "code",
   "execution_count": null,
   "metadata": {},
   "outputs": [],
   "source": [
    "import random\n",
    "import pandas as pd\n",
    "import numpy as np\n",
    "from sklearn.datasets import make_regression"
   ]
  },
  {
   "cell_type": "markdown",
   "metadata": {},
   "source": [
    "### Constants"
   ]
  },
  {
   "cell_type": "code",
   "execution_count": null,
   "metadata": {},
   "outputs": [],
   "source": [
    "NR_FEATURES = 400\n",
    "NR_SAMPLES = 1000\n",
    "RANDOM_STATE = 42\n",
    "CONSTANT_NUM = 88.0\n",
    "CONSTANT_FEATURES = 30\n",
    "QUASI_CONSTANT_FEATURES = 20\n",
    "OUTPUT_FILE = 'dataset_1.csv'\n"
   ]
  },
  {
   "cell_type": "code",
   "execution_count": null,
   "metadata": {},
   "outputs": [],
   "source": [
    "# create the X and y\n",
    "X, y = make_regression(n_samples=NR_SAMPLES, n_features=NR_FEATURES,\n",
    "                       random_state= RANDOM_STATE, noise=1)\n",
    "X.shape"
   ]
  },
  {
   "cell_type": "code",
   "execution_count": null,
   "metadata": {},
   "outputs": [],
   "source": [
    "# create headers for each feature\n",
    "\n",
    "z = len(str(NR_FEATURES))\n",
    "header_names = ['var_' + str(n).zfill(z) for n in range(NR_FEATURES)]\n"
   ]
  },
  {
   "cell_type": "code",
   "execution_count": null,
   "metadata": {},
   "outputs": [],
   "source": [
    "data = pd.DataFrame(X, columns=header_names)\n",
    "data['target'] = y\n",
    "\n",
    "data.shape"
   ]
  },
  {
   "cell_type": "code",
   "execution_count": null,
   "metadata": {},
   "outputs": [],
   "source": [
    "# make columns of constants\n",
    "list_columns_cte =  random.sample(header_names, CONSTANT_FEATURES)\n",
    "\n",
    "data[list_columns_cte] = CONSTANT_NUM\n",
    "data.head()"
   ]
  },
  {
   "cell_type": "code",
   "execution_count": null,
   "metadata": {},
   "outputs": [],
   "source": [
    "# copy value of one column in 10 others columns\n",
    "col_in = random.sample(header_names, 1)\n",
    "\n",
    "rep = 10\n",
    "col_out = random.sample(header_names, rep)\n",
    "\n",
    "for col in col_out:\n",
    "    data[col] = data[col_in]\n",
    "\n",
    "data.head()\n"
   ]
  },
  {
   "cell_type": "code",
   "execution_count": null,
   "metadata": {},
   "outputs": [],
   "source": [
    "# make quasi-constant columns\n",
    "col_quasi = random.sample(list_columns_cte, QUASI_CONSTANT_FEATURES)\n",
    "\n",
    "# change just the three first row\n",
    "data.loc[0:2, col_quasi]-= 0.01\n",
    "data.head()\n"
   ]
  },
  {
   "cell_type": "markdown",
   "metadata": {},
   "source": [
    "### Save in csv file"
   ]
  },
  {
   "cell_type": "code",
   "execution_count": null,
   "metadata": {},
   "outputs": [],
   "source": [
    "data.to_csv(OUTPUT_FILE, index=False)"
   ]
  }
 ],
 "metadata": {
  "kernelspec": {
   "display_name": "Python 3 (ipykernel)",
   "language": "python",
   "name": "python3"
  },
  "language_info": {
   "codemirror_mode": {
    "name": "ipython",
    "version": 3
   },
   "file_extension": ".py",
   "mimetype": "text/x-python",
   "name": "python",
   "nbconvert_exporter": "python",
   "pygments_lexer": "ipython3",
   "version": "3.12.9"
  }
 },
 "nbformat": 4,
 "nbformat_minor": 2
}
